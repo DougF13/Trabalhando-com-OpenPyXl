{
 "cells": [
  {
   "cell_type": "markdown",
   "id": "b3ada0d5",
   "metadata": {},
   "source": [
    "CRIANDO A TABELA DE NOTAS DOS ALUNOS"
   ]
  },
  {
   "cell_type": "code",
   "execution_count": 49,
   "id": "90526ddd",
   "metadata": {},
   "outputs": [],
   "source": [
    "from openpyxl import Workbook\n",
    "\n",
    "wb = Workbook()\n",
    "ws = wb.active\n",
    "ws.title = \"alns\"\n",
    "\n",
    "Alunos = [\"Alunos\",\"André\", \"Maurício\", \"Pedro\", \"Sla\"]\n",
    "\n",
    "for i, linha in enumerate(Alunos):\n",
    "    ws.cell(row=i+1, column=1).value = linha\n",
    "wb.save(\"Alunos.xlsx\")   \n",
    "        "
   ]
  },
  {
   "attachments": {},
   "cell_type": "markdown",
   "id": "b59074c7",
   "metadata": {},
   "source": [
    "ADICIONANDO ALUNOS NO EXEL"
   ]
  },
  {
   "cell_type": "code",
   "execution_count": 54,
   "id": "9693de39",
   "metadata": {},
   "outputs": [],
   "source": [
    "from openpyxl import Workbook\n",
    "\n",
    "wb = openpyxl.load_workbook('Alunos.xlsx')\n",
    "ws = ['alns']\n",
    "\n",
    "Alunos = [\"Alunos\",\"André\", \"João\", \"Pedro\"]\n",
    "\n",
    "for i, linha in enumerate(Alunos):\n",
    "    ws.cell(row=i+1, column=1).value = linha\n",
    "wb.save(\"Alunos.xlsx\")   \n",
    "        "
   ]
  },
  {
   "cell_type": "markdown",
   "id": "cfd9cb54",
   "metadata": {},
   "source": [
    "ADICIONANDO NOVOS ALUNOS"
   ]
  },
  {
   "cell_type": "code",
   "execution_count": 44,
   "id": "bcf7dce7",
   "metadata": {},
   "outputs": [
    {
     "name": "stdout",
     "output_type": "stream",
     "text": [
      "Digite o nome do novo aluno: Maurício\n"
     ]
    }
   ],
   "source": [
    "import openpyxl\n",
    "\n",
    "# Abre o arquivo Excel\n",
    "wb = openpyxl.load_workbook('Alunos.xlsx')\n",
    "\n",
    "# Seleciona a primeira planilha\n",
    "ws = wb.active\n",
    "\n",
    "# pega a quantidade de registros que tem na coluna 1\n",
    "def quantidadeRegistros(sheet):\n",
    "    count = 0\n",
    "    #pegando a quantidade de dados que tem na tabela\n",
    "    for row in sheet.rows:\n",
    "        cell = row[0]\n",
    "        if cell.value is not None:\n",
    "            count += 1\n",
    "        else:\n",
    "            break\n",
    "    return count\n",
    "\n",
    "#verificar se uma celula tem valor. Se tiver, mostra a mensagem \"A célula A1 tem um valor\", se não, adiciona um novo valor\n",
    "def adicionarAluno(alunoNovo):\n",
    "    contador = quantidadeRegistros(ws) + 1\n",
    "    \n",
    "    for i in range(contador):\n",
    "        cell = ws.cell(row=i+1, column=1)\n",
    "\n",
    "        if cell.value is None:\n",
    "            ws.cell(row=i+1, column=1, value=alunoNovo)\n",
    "            \n",
    "newAluno = input('Digite o nome do novo aluno: ')\n",
    "adicionarAluno(newAluno)\n",
    "\n",
    "wb.save(\"Alunos.xlsx\")\n",
    "\n",
    "# Verifica se a célula A1 tem um valor\n"
   ]
  },
  {
   "cell_type": "code",
   "execution_count": 55,
   "id": "35330e91",
   "metadata": {},
   "outputs": [],
   "source": [
    "import openpyxl\n",
    "\n",
    "wb = openpyxl.load_workbook('Alunos.xlsx')\n",
    "\n",
    "ws = wb.active\n",
    "\n",
    "Bimestres = [\"1° Bimestre\",\"2° Bimestre\",\"3° Bimestre\",\"4° Bimestre\", \"Media\"]\n",
    "\n",
    "for i, bimestre in enumerate(Bimestres):\n",
    "    ws.cell(row=1, column=i+2).value = bimestre\n",
    "    \n",
    "wb.save(\"Alunos.xlsx\")\n"
   ]
  },
  {
   "cell_type": "markdown",
   "id": "9dd96146",
   "metadata": {},
   "source": [
    "VERIFICANDO SE EXISTE VALOR NAS CÉLULAS"
   ]
  },
  {
   "cell_type": "code",
   "execution_count": 45,
   "id": "ef3e3cd8",
   "metadata": {},
   "outputs": [
    {
     "name": "stdout",
     "output_type": "stream",
     "text": [
      "Aluno sem nota! Digite a nota: 10\n",
      "Aluno sem nota! Digite a nota: 10\n",
      "Aluno sem nota! Digite a nota: 9\n",
      "Aluno sem nota! Digite a nota: 4\n",
      "Aluno sem nota! Digite a nota: 10\n",
      "Aluno sem nota! Digite a nota: 7\n",
      "Aluno sem nota! Digite a nota: 8\n",
      "Aluno sem nota! Digite a nota: 5\n"
     ]
    }
   ],
   "source": [
    "import openpyxl\n",
    "\n",
    "wb = openpyxl.load_workbook('Alunos.xlsx')\n",
    "\n",
    "ws = wb[\"alns\"]\n",
    "\n",
    "def quantidadeRegistros(sheet):\n",
    "    count = 0\n",
    "    #pegando a quantidade de dados que tem na tabela\n",
    "    for row in sheet.rows:\n",
    "        cell = row[0]\n",
    "        if cell.value is not None:\n",
    "            count += 1\n",
    "        else:\n",
    "            break\n",
    "    return count\n",
    "\n",
    "contador = quantidadeRegistros(ws) - 1\n",
    "\n",
    "#VERIFICANDO SE FALTA ALGUMA NOTA PARA UM ALUNO. SE FALTAR, ELE EXIGE QUE SEJA ADICIONADO UMA NOTA\n",
    "\n",
    "for i in range(contador):\n",
    "    for j in range(5):\n",
    "        cell = ws.cell(row=i+2, column=j+1)\n",
    "        valor = cell.value\n",
    "        \n",
    "        if valor is None:\n",
    "            nota = input('Aluno sem nota! Digite a nota: ')\n",
    "            while nota == \"\":\n",
    "                nota = input('Digite algo! ')\n",
    "            \n",
    "            cell = ws.cell(row=i+2, column=j+1).value = int(nota)\n",
    "            contMedia=+1\n",
    "        else:\n",
    "            contMedia=+1\n",
    "\n",
    "wb.save(\"Alunos.xlsx\")"
   ]
  },
  {
   "cell_type": "markdown",
   "id": "6fce0106",
   "metadata": {},
   "source": [
    "##### CALCULANDO A MÉDIA DE UM ALUNO"
   ]
  },
  {
   "cell_type": "code",
   "execution_count": 51,
   "id": "ccca34f5",
   "metadata": {},
   "outputs": [],
   "source": [
    "import openpyxl\n",
    "import statistics\n",
    "\n",
    "wb = openpyxl.load_workbook('Alunos.xlsx')\n",
    "\n",
    "ws = wb[\"alns\"]\n",
    "\n",
    "def quantidadeRegistros(sheet):\n",
    "    count = 0\n",
    "    #pegando a quantidade de dados que tem na tabela\n",
    "    for row in sheet.rows:\n",
    "        cell = row[0]\n",
    "        if cell.value is not None:\n",
    "            count += 1\n",
    "        else:\n",
    "            break\n",
    "    return count\n",
    "\n",
    "contador = quantidadeRegistros(ws) - 1\n",
    "\n",
    "for i in range(contador):\n",
    "    notas = []\n",
    "    for j in range(4):\n",
    "        cell = ws.cell(row=i+2, column=j+2)\n",
    "        valor = cell.value\n",
    "        notas.append(valor)\n",
    "    media = statistics.mean(notas)\n",
    "    cell = ws.cell(row=i+2, column=6).value = media\n",
    "    \n",
    "wb.save(\"Alunos.xlsx\")"
   ]
  },
  {
   "cell_type": "markdown",
   "id": "dce7a883",
   "metadata": {},
   "source": [
    "DELETANDO ALGUM ALUNO"
   ]
  },
  {
   "cell_type": "code",
   "execution_count": 67,
   "id": "f26463a4",
   "metadata": {},
   "outputs": [
    {
     "name": "stdout",
     "output_type": "stream",
     "text": [
      "Digite o nome do aluno que deseja excluir: Lucas\n"
     ]
    }
   ],
   "source": [
    "import openpyxl\n",
    "\n",
    "wb = openpyxl.load_workbook(\"Alunos.xlsx\")\n",
    "\n",
    "ws = wb['alns']\n",
    "\n",
    "nomeAluno = input('Digite o nome do aluno que deseja excluir: ')\n",
    "\n",
    "def quantidadeRegistros(sheet):\n",
    "    count = 0\n",
    "    #pegando a quantidade de dados que tem na tabela\n",
    "    for row in sheet.rows:\n",
    "        cell = row[0]\n",
    "        if cell.value is not None:\n",
    "            count += 1\n",
    "        else:\n",
    "            break\n",
    "    return count\n",
    "\n",
    "#verificar se uma celula tem valor. Se tiver, mostra a mensagem \"A célula A1 tem um valor\", se não, adiciona um novo valor\n",
    "contador = quantidadeRegistros(ws)\n",
    "    \n",
    "for i in range(contador):\n",
    "    cell = ws.cell(row=i+1, column=1)\n",
    "    if cell.value == nomeAluno:\n",
    "        ws.delete_rows(i + 1, 1)\n",
    "\n",
    "wb.save(\"Alunos.xlsx\")"
   ]
  },
  {
   "cell_type": "markdown",
   "id": "2ad5d1ac",
   "metadata": {},
   "source": [
    "ALTERANDO A NOTA DE UM ALUNO"
   ]
  },
  {
   "cell_type": "code",
   "execution_count": 91,
   "id": "9795bf9a",
   "metadata": {},
   "outputs": [
    {
     "name": "stdout",
     "output_type": "stream",
     "text": [
      "Digite o nome do aluno que deseja alterar a nota: André\n",
      "Qual nota deseja alterar? 1\n",
      "Digite a nova nota: 10\n",
      "alterado com sucesso!\n"
     ]
    }
   ],
   "source": [
    "import openpyxl\n",
    "\n",
    "wb = openpyxl.load_workbook('Alunos.xlsx')\n",
    "\n",
    "ws = wb[\"alns\"]\n",
    "\n",
    "def quantidadeRegistros(sheet):\n",
    "    count = 0\n",
    "    #pegando a quantidade de dados que tem na tabela\n",
    "    for row in sheet.rows:\n",
    "        cell = row[0]\n",
    "        if cell.value is not None:\n",
    "            count += 1\n",
    "        else:\n",
    "            break\n",
    "    return count\n",
    "\n",
    "def pegarNomeAluno(nomeAluno):\n",
    "    contador = quantidadeRegistros(ws) - 1\n",
    "    nomeFinal = \"não existe\"\n",
    "    for i in range(contador):\n",
    "        cell = ws.cell(row=i+1, column=1)\n",
    "    \n",
    "        if cell.value == nomeAluno:\n",
    "            nomeFinal = cell\n",
    "            \n",
    "    return nomeFinal\n",
    "\n",
    "nomeAluno = input('Digite o nome do aluno que deseja alterar a nota: ')\n",
    "\n",
    "for i in range(contador):\n",
    "        cell = ws.cell(row=i+1, column=1)\n",
    "        \n",
    "        if cell.value == nomeAluno:\n",
    "            altNota = int(input('Qual nota deseja alterar? '))\n",
    "            #validando a nota que será alterada\n",
    "            while altNota <= 0 or altNota > 4:\n",
    "                altNota = int(input('A nota que deseja alterar não existe! Por favor, digite uma nota de 1 a 4: '))\n",
    "            \n",
    "            novaNota = int(input('Digite a nova nota: '))\n",
    "            #validando o valor da nota\n",
    "            while novaNota < 0 or novaNota > 10:\n",
    "                novaNota = int(input('Nota inválida!! Por favor, digite uma nota de 0 a 10: '))\n",
    "            cell = ws.cell(row=i+1, column=altNota+1, value=novaNota)\n",
    "            print (\"alterado com sucesso!\")\n",
    "\n",
    "wb.save(\"Alunos.xlsx\")"
   ]
  },
  {
   "cell_type": "markdown",
   "id": "99cf6076",
   "metadata": {},
   "source": [
    "### "
   ]
  },
  {
   "cell_type": "code",
   "execution_count": null,
   "id": "bc4ab5e8",
   "metadata": {},
   "outputs": [],
   "source": []
  }
 ],
 "metadata": {
  "kernelspec": {
   "display_name": "Python 3 (ipykernel)",
   "language": "python",
   "name": "python3"
  },
  "language_info": {
   "codemirror_mode": {
    "name": "ipython",
    "version": 3
   },
   "file_extension": ".py",
   "mimetype": "text/x-python",
   "name": "python",
   "nbconvert_exporter": "python",
   "pygments_lexer": "ipython3",
   "version": "3.9.13"
  }
 },
 "nbformat": 4,
 "nbformat_minor": 5
}
